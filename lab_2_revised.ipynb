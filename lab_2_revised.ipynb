{
 "cells": [
  {
   "cell_type": "code",
   "execution_count": 1,
   "id": "81d8d80a",
   "metadata": {},
   "outputs": [
    {
     "data": {
      "text/html": [
       "<div>\n",
       "<style scoped>\n",
       "    .dataframe tbody tr th:only-of-type {\n",
       "        vertical-align: middle;\n",
       "    }\n",
       "\n",
       "    .dataframe tbody tr th {\n",
       "        vertical-align: top;\n",
       "    }\n",
       "\n",
       "    .dataframe thead th {\n",
       "        text-align: right;\n",
       "    }\n",
       "</style>\n",
       "<table border=\"1\" class=\"dataframe\">\n",
       "  <thead>\n",
       "    <tr style=\"text-align: right;\">\n",
       "      <th></th>\n",
       "      <th>Document ID</th>\n",
       "      <th>Content</th>\n",
       "    </tr>\n",
       "  </thead>\n",
       "  <tbody>\n",
       "    <tr>\n",
       "      <th>0</th>\n",
       "      <td>1</td>\n",
       "      <td>{\\r\\n   \"title\": \"Introduction to Python\",\\r\\n...</td>\n",
       "    </tr>\n",
       "    <tr>\n",
       "      <th>1</th>\n",
       "      <td>2</td>\n",
       "      <td>{\\r\\n   \"title\": \"Data Analysis with Pandas\",\\...</td>\n",
       "    </tr>\n",
       "    <tr>\n",
       "      <th>2</th>\n",
       "      <td>3</td>\n",
       "      <td>{\\r\\n   \"title\": \"Web Development with Flask\",...</td>\n",
       "    </tr>\n",
       "    <tr>\n",
       "      <th>3</th>\n",
       "      <td>4</td>\n",
       "      <td>{\\r\\n   \"title\": \"Machine Learning with Scikit...</td>\n",
       "    </tr>\n",
       "    <tr>\n",
       "      <th>4</th>\n",
       "      <td>5</td>\n",
       "      <td>{\\r\\n   \"title\": \"Data Visualization with Matp...</td>\n",
       "    </tr>\n",
       "  </tbody>\n",
       "</table>\n",
       "</div>"
      ],
      "text/plain": [
       "   Document ID                                            Content\n",
       "0            1  {\\r\\n   \"title\": \"Introduction to Python\",\\r\\n...\n",
       "1            2  {\\r\\n   \"title\": \"Data Analysis with Pandas\",\\...\n",
       "2            3  {\\r\\n   \"title\": \"Web Development with Flask\",...\n",
       "3            4  {\\r\\n   \"title\": \"Machine Learning with Scikit...\n",
       "4            5  {\\r\\n   \"title\": \"Data Visualization with Matp..."
      ]
     },
     "execution_count": 1,
     "metadata": {},
     "output_type": "execute_result"
    }
   ],
   "source": [
    "# Import necessary libraries\n",
    "import pandas as pd\n",
    "import json\n",
    "import string \n",
    "\n",
    "# Load the CSV dataset\n",
    "df = pd.read_csv(\"semi_strut.csv\")\n",
    "\n",
    "# Display the first few rows of the dataset\n",
    "df.head()"
   ]
  },
  {
   "cell_type": "code",
   "execution_count": 16,
   "id": "a5ea1871",
   "metadata": {},
   "outputs": [
    {
     "data": {
      "text/plain": [
       "['Introduction',\n",
       " 'to',\n",
       " 'Python',\n",
       " 'John',\n",
       " 'Doe',\n",
       " 'Getting',\n",
       " 'Started',\n",
       " 'Python',\n",
       " 'is',\n",
       " 'a',\n",
       " 'versatile',\n",
       " 'programming',\n",
       " 'language...',\n",
       " 'Basic',\n",
       " 'Syntax',\n",
       " 'Python',\n",
       " 'syntax',\n",
       " 'is',\n",
       " 'easy',\n",
       " 'to',\n",
       " 'understand...']"
      ]
     },
     "execution_count": 16,
     "metadata": {},
     "output_type": "execute_result"
    }
   ],
   "source": [
    "# Tokenization function to extract terms from the JSON-like content\n",
    "# Remember to exact both \n",
    "# 1 .Extract terms from various fields (title, author)\n",
    "def tokenize_content(content):\n",
    "    content_dict = json.loads(content)\n",
    "    terms = []\n",
    "    \n",
    "    # Extract terms from various fields (title, author)\n",
    "    terms.extend(content_dict.get(\"title\", \"\").split())\n",
    "    terms.extend(content_dict.get(\"author\", \"\").split())\n",
    "    terms.extend(content_dict.get(\"keyword\",[]))\n",
    " \n",
    "    for x in content_dict['sections']:\n",
    "        terms.extend(x.get(\"title\", \"\").split())\n",
    "        terms.extend(x.get(\"content\", \"\").split())\n",
    "    return terms\n",
    "\n",
    "tokenize_content(df[\"Content\"][0])\n",
    "# 2. apply to all row in panda df , by create new column \"Terms\"\n",
    "df[\"Terms\"] = df[\"Content\"].apply(tokenize_content)\n",
    "df[\"Terms\"][0]\n"
   ]
  },
  {
   "cell_type": "code",
   "execution_count": 18,
   "id": "e3d23e40",
   "metadata": {},
   "outputs": [
    {
     "data": {
      "text/plain": [
       "['john',\n",
       " 'versatile',\n",
       " 'python',\n",
       " 'getting',\n",
       " 'easy',\n",
       " 'started',\n",
       " 'programming',\n",
       " 'introduction',\n",
       " 'basic',\n",
       " 'syntax',\n",
       " 'understand',\n",
       " 'doe',\n",
       " 'language']"
      ]
     },
     "execution_count": 18,
     "metadata": {},
     "output_type": "execute_result"
    }
   ],
   "source": [
    "# 4. Implement a preprocessing function that converts terms to lowercase, removes punctuation, and removes common stop words.\n",
    "    # Create another new column \"Terms_preprocessed\"\n",
    "def preprocess_terms(terms):\n",
    "    # Define a set of common stop words\n",
    "    stop_words = set([\n",
    "        \"a\", \"an\", \"the\", \"and\", \"is\", \"in\", \"it\", \"to\", \"of\", \"for\", \"on\", \"with\", \"as\"\n",
    "    ])\n",
    "    \n",
    "    # Remove punctuation and convert to lowercase\n",
    "    terms = [term.lower().strip(string.punctuation) for term in terms]\n",
    "    \n",
    "    # Remove stop words\n",
    "    terms = [term for term in terms if term not in stop_words]\n",
    "     \n",
    "    # unique term\n",
    "    unique_terms = list(set(terms))\n",
    "    \n",
    "    return unique_terms\n",
    "\n",
    "# your code here....\n",
    "df[\"Terms_prep\"] = df[\"Terms\"].apply(preprocess_terms)\n",
    "df[\"Terms_prep\"][0]"
   ]
  },
  {
   "cell_type": "code",
   "execution_count": 19,
   "id": "131fdcaf",
   "metadata": {},
   "outputs": [
    {
     "data": {
      "text/plain": [
       "{'john': {1},\n",
       " 'versatile': {1, 5},\n",
       " 'python': {1, 3},\n",
       " 'getting': {1, 3},\n",
       " 'easy': {1},\n",
       " 'started': {1, 3},\n",
       " 'programming': {1},\n",
       " 'introduction': {1, 2, 4, 5},\n",
       " 'basic': {1},\n",
       " 'syntax': {1},\n",
       " 'understand': {1},\n",
       " 'doe': {1},\n",
       " 'language': {1},\n",
       " 'jane': {2},\n",
       " 'dataframes': {2},\n",
       " 'smith': {2},\n",
       " 'data': {2, 5},\n",
       " 'analysis': {2},\n",
       " 'library': {2, 5},\n",
       " 'core': {2},\n",
       " 'structure': {2},\n",
       " 'pandas': {2},\n",
       " 'are': {2},\n",
       " 'popular': {2},\n",
       " 'views': {3},\n",
       " 'defines': {3},\n",
       " 'lightweight': {3},\n",
       " 'johnson': {3},\n",
       " 'url': {3},\n",
       " 'framework': {3},\n",
       " 'web': {3},\n",
       " 'mike': {3},\n",
       " 'development': {3},\n",
       " 'patterns': {3},\n",
       " 'routing': {3},\n",
       " 'flask': {3},\n",
       " 'scikit-learn': {4},\n",
       " 'supervised': {4},\n",
       " 'type': {4},\n",
       " 'artificial': {4},\n",
       " 'machine': {4},\n",
       " 'emily': {4},\n",
       " 'learning': {4},\n",
       " 'subfield': {4},\n",
       " 'davis': {4},\n",
       " 'intelligence': {4},\n",
       " 'clark': {5},\n",
       " 'created': {5},\n",
       " 'creating': {5},\n",
       " 'using': {5},\n",
       " 'robert': {5},\n",
       " 'can': {5},\n",
       " 'functions': {5},\n",
       " 'visualization': {5},\n",
       " 'various': {5},\n",
       " 'matplotlib': {5},\n",
       " 'plots': {5},\n",
       " 'be': {5}}"
      ]
     },
     "execution_count": 19,
     "metadata": {},
     "output_type": "execute_result"
    }
   ],
   "source": [
    "# Initialize an empty inverted index dictionary\n",
    "# Build the inverted index\n",
    "# Initialize an empty inverted index dictionary\n",
    "inverted_index = {}\n",
    "\n",
    "# Build the inverted index\n",
    "for index, row in df.iterrows():\n",
    "    document_id = row[\"Document ID\"]\n",
    "    terms = row[\"Terms_prep\"]\n",
    "    \n",
    "    # Update the inverted index with terms and document IDs\n",
    "    for term in terms:\n",
    "        if term not in inverted_index:\n",
    "            inverted_index[term] = set()\n",
    "        inverted_index[term].add(document_id)\n",
    "\n",
    "# Display the inverted index\n",
    "inverted_index"
   ]
  },
  {
   "cell_type": "code",
   "execution_count": 20,
   "id": "e1faad8e",
   "metadata": {},
   "outputs": [
    {
     "data": {
      "text/plain": [
       "{5}"
      ]
     },
     "execution_count": 20,
     "metadata": {},
     "output_type": "execute_result"
    }
   ],
   "source": [
    "post = inverted_index['be']\n",
    "post"
   ]
  },
  {
   "cell_type": "code",
   "execution_count": 8,
   "id": "1b929397",
   "metadata": {},
   "outputs": [],
   "source": [
    "# perform boolean operations on postings lists for Boolean search operations\n",
    "# 1. \"Python\" OR \"Pandas\"\n",
    "# 2. \"Python\" AND \"data\""
   ]
  }
 ],
 "metadata": {
  "kernelspec": {
   "display_name": "Python 3 (ipykernel)",
   "language": "python",
   "name": "python3"
  },
  "language_info": {
   "codemirror_mode": {
    "name": "ipython",
    "version": 3
   },
   "file_extension": ".py",
   "mimetype": "text/x-python",
   "name": "python",
   "nbconvert_exporter": "python",
   "pygments_lexer": "ipython3",
   "version": "3.11.4"
  }
 },
 "nbformat": 4,
 "nbformat_minor": 5
}
